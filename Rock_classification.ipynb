{
  "nbformat": 4,
  "nbformat_minor": 0,
  "metadata": {
    "colab": {
      "provenance": []
    },
    "kernelspec": {
      "name": "python3",
      "display_name": "Python 3"
    },
    "language_info": {
      "name": "python"
    },
    "accelerator": "GPU"
  },
  "cells": [
    {
      "cell_type": "code",
      "execution_count": null,
      "metadata": {
        "id": "6IBAp3AApUlq"
      },
      "outputs": [],
      "source": [
        "# Libraries\n",
        "\n",
        "import numpy as np\n",
        "import pandas as pd\n",
        "import os\n",
        "import cv2\n",
        "from sklearn.model_selection import train_test_split\n",
        "import tensorflow as tf\n",
        "from tensorflow import keras\n",
        "from tensorflow.keras.models import Sequential\n",
        "from tensorflow.keras.layers import Dense, Activation, Dropout, Flatten,Conv2D, MaxPooling2D,BatchNormalization"
      ]
    },
    {
      "cell_type": "code",
      "source": [
        "# Change image into 224*224 size array\n",
        "a='/content/drive/MyDrive/Rock_Dataset'\n",
        "x = os.listdir(a)\n",
        "table=[]\n",
        "label=[]\n",
        "for i in x:\n",
        "    y = os.listdir(a+'/'+i)\n",
        "    for j in y:\n",
        "        z=os.listdir(a+'/'+i+'/'+j)\n",
        "        for k in z:\n",
        "            try :\n",
        "                img  = cv2.imread(a+'/'+i+'/'+j+'/'+k)\n",
        "                x2=cv2.resize(img, (224,224))\n",
        "                table.append(np.array(x2))\n",
        "                label.append(i)\n",
        "            except:\n",
        "                continue"
      ],
      "metadata": {
        "id": "RwWYtUaMpeqo"
      },
      "execution_count": null,
      "outputs": []
    },
    {
      "cell_type": "code",
      "source": [
        "labels = pd.get_dummies(label) # One hot encoding\n",
        "table=np.array(table) # Converting table into an array "
      ],
      "metadata": {
        "id": "o34ueR3IpiTV"
      },
      "execution_count": null,
      "outputs": []
    },
    {
      "cell_type": "code",
      "source": [
        "labels = np.array(labels)\n",
        "labels.shape"
      ],
      "metadata": {
        "id": "MlEVpnmbzs1x",
        "colab": {
          "base_uri": "https://localhost:8080/"
        },
        "outputId": "c19c8ff8-e40f-44dd-bfc4-576449945b0c"
      },
      "execution_count": null,
      "outputs": [
        {
          "output_type": "execute_result",
          "data": {
            "text/plain": [
              "(5887, 3)"
            ]
          },
          "metadata": {},
          "execution_count": 14
        }
      ]
    },
    {
      "cell_type": "code",
      "source": [
        "table.shape"
      ],
      "metadata": {
        "id": "xFaqd-zUxhb2"
      },
      "execution_count": null,
      "outputs": []
    },
    {
      "cell_type": "code",
      "source": [
        "rock = ['igneous','metamorphic','sedimentary']"
      ],
      "metadata": {
        "id": "NDrIQSBQ0Hzq"
      },
      "execution_count": null,
      "outputs": []
    },
    {
      "cell_type": "code",
      "source": [
        "# Split the data into training and testing set\n",
        "x_train, x_test, y_train, y_test = train_test_split(table, labels, test_size=0.3, random_state=42)"
      ],
      "metadata": {
        "id": "EZLJB-IdqVTi"
      },
      "execution_count": null,
      "outputs": []
    },
    {
      "cell_type": "code",
      "source": [
        "# MobileNetV2\n",
        "\n",
        "from tensorflow.keras.applications import MobileNetV2\n",
        "from tensorflow.keras.layers import Dense, GlobalAveragePooling2D, Dropout\n",
        "from tensorflow.keras.models import Sequential\n",
        "model = Sequential()\n",
        "model.add(MobileNetV2(weights=\"imagenet\",\n",
        "                        include_top=False,\n",
        "                        input_shape=(224, 224, 3)))\n",
        "model.add(GlobalAveragePooling2D())\n",
        "model.add(Dropout(0.2))\n",
        "model.add(Dense(3, activation='softmax'))"
      ],
      "metadata": {
        "id": "8mrS_rH6pt3B"
      },
      "execution_count": null,
      "outputs": []
    },
    {
      "cell_type": "code",
      "source": [
        "model.compile(optimizer='adam',\n",
        "              loss='CategoricalCrossentropy',\n",
        "              metrics=['accuracy'])\n",
        "\n",
        "model.fit(x_train, y_train,epochs=10,batch_size=64,validation_data=(x_test, y_test))\n"
      ],
      "metadata": {
        "id": "eDoQhEKVpwpJ",
        "colab": {
          "base_uri": "https://localhost:8080/"
        },
        "outputId": "ed5784b3-b683-4764-c098-e4c3e5907ba3"
      },
      "execution_count": null,
      "outputs": [
        {
          "output_type": "stream",
          "name": "stdout",
          "text": [
            "Epoch 1/10\n",
            "65/65 [==============================] - 57s 790ms/step - loss: 0.9207 - accuracy: 0.6000 - val_loss: 9.4004 - val_accuracy: 0.3656\n",
            "Epoch 2/10\n",
            "65/65 [==============================] - 50s 772ms/step - loss: 0.6639 - accuracy: 0.7257 - val_loss: 7.2923 - val_accuracy: 0.4182\n",
            "Epoch 3/10\n",
            "65/65 [==============================] - 50s 776ms/step - loss: 0.6027 - accuracy: 0.7473 - val_loss: 4.7617 - val_accuracy: 0.4312\n",
            "Epoch 4/10\n",
            "65/65 [==============================] - 50s 775ms/step - loss: 0.5122 - accuracy: 0.7956 - val_loss: 7.5505 - val_accuracy: 0.3792\n",
            "Epoch 5/10\n",
            "65/65 [==============================] - 51s 778ms/step - loss: 0.4234 - accuracy: 0.8320 - val_loss: 8.4590 - val_accuracy: 0.3911\n",
            "Epoch 6/10\n",
            "65/65 [==============================] - 50s 775ms/step - loss: 0.3715 - accuracy: 0.8602 - val_loss: 4.8983 - val_accuracy: 0.4256\n",
            "Epoch 7/10\n",
            "65/65 [==============================] - 50s 775ms/step - loss: 0.3197 - accuracy: 0.8796 - val_loss: 7.8204 - val_accuracy: 0.3831\n",
            "Epoch 8/10\n",
            "65/65 [==============================] - 51s 779ms/step - loss: 0.2395 - accuracy: 0.9109 - val_loss: 6.7299 - val_accuracy: 0.3871\n",
            "Epoch 9/10\n",
            "65/65 [==============================] - 50s 776ms/step - loss: 0.2097 - accuracy: 0.9250 - val_loss: 15.1591 - val_accuracy: 0.3345\n",
            "Epoch 10/10\n",
            "65/65 [==============================] - 50s 776ms/step - loss: 0.2180 - accuracy: 0.9214 - val_loss: 9.7383 - val_accuracy: 0.4075\n"
          ]
        },
        {
          "output_type": "execute_result",
          "data": {
            "text/plain": [
              "<keras.callbacks.History at 0x7f0f175f8c50>"
            ]
          },
          "metadata": {},
          "execution_count": 17
        }
      ]
    },
    {
      "cell_type": "code",
      "source": [
        "y_pred = model.predict(x_test)\n",
        "y_pred = [np.argmax(i) for i in y_pred]\n",
        "y_test=np.array(y_test)\n",
        "y_test=[np.argmax(i) for i in y_test]"
      ],
      "metadata": {
        "id": "dF9IuPGfp0dj"
      },
      "execution_count": null,
      "outputs": []
    },
    {
      "cell_type": "code",
      "source": [
        "from sklearn.metrics import accuracy_score\n",
        "accuracy_score(y_test, y_pred)"
      ],
      "metadata": {
        "id": "mv0gswaw08-n",
        "colab": {
          "base_uri": "https://localhost:8080/"
        },
        "outputId": "710aa812-2696-41ad-98c8-7bcb0f06beba"
      },
      "execution_count": null,
      "outputs": [
        {
          "output_type": "execute_result",
          "data": {
            "text/plain": [
              "0.4074702886247878"
            ]
          },
          "metadata": {},
          "execution_count": 19
        }
      ]
    },
    {
      "cell_type": "code",
      "source": [
        "a1='/content/drive/MyDrive/Rock'\n",
        "x1 = os.listdir(a1)\n",
        "table1=[]\n",
        "label1=[]\n",
        "for m in x1:\n",
        "  \n",
        "  y1 = os.listdir(a1+'/'+m)\n",
        "  for n in y1:\n",
        "      try :\n",
        "          img  = cv2.imread(a1+'/'+m+'/'+n)\n",
        "          x2=cv2.resize(img, (224,224))\n",
        "          table1.append(np.array(x2))\n",
        "          label1.append(m)\n",
        "      except:\n",
        "          continue"
      ],
      "metadata": {
        "id": "yguLbJSZp3ed"
      },
      "execution_count": null,
      "outputs": []
    },
    {
      "cell_type": "code",
      "source": [
        "table1=np.array(table1)\n",
        "test = model.predict(table1)\n",
        "test = [np.argmax(i) for i in test]"
      ],
      "metadata": {
        "id": "Kilb2u0e1Shl"
      },
      "execution_count": null,
      "outputs": []
    },
    {
      "cell_type": "code",
      "source": [
        "test = model.predict(table1)"
      ],
      "metadata": {
        "id": "PiJPhjfVuzfb"
      },
      "execution_count": null,
      "outputs": []
    },
    {
      "cell_type": "code",
      "source": [
        "test = [np.argmax(i) for i in test]"
      ],
      "metadata": {
        "id": "p88PEMlN17Uo"
      },
      "execution_count": null,
      "outputs": []
    },
    {
      "cell_type": "code",
      "source": [
        "label1 = pd.get_dummies(label1)\n",
        "label1 = np.array(label1)\n",
        "label1 = [np.argmax(i) for i in label1]"
      ],
      "metadata": {
        "id": "8SzA-Y_ITAQE"
      },
      "execution_count": null,
      "outputs": []
    },
    {
      "cell_type": "code",
      "source": [
        "label1 = np.array(label1)\n",
        "label1 = [np.argmax(i) for i in label1]"
      ],
      "metadata": {
        "id": "A9CF7YVFTgU4"
      },
      "execution_count": null,
      "outputs": []
    },
    {
      "cell_type": "code",
      "source": [
        "label1 = [np.argmax(i) for i in label1]"
      ],
      "metadata": {
        "id": "_MA65u1dTKTf"
      },
      "execution_count": null,
      "outputs": []
    },
    {
      "cell_type": "code",
      "source": [
        "label1"
      ],
      "metadata": {
        "colab": {
          "base_uri": "https://localhost:8080/"
        },
        "id": "road-ZjgTQvj",
        "outputId": "8ce2c316-e9b1-41c9-92a5-f83d87b6f36d"
      },
      "execution_count": null,
      "outputs": [
        {
          "output_type": "execute_result",
          "data": {
            "text/plain": [
              "[2, 2, 2, 2, 2, 2, 2, 2, 0, 0, 0, 0, 0, 0, 0, 0, 1, 1, 1, 1, 1, 1, 1, 1]"
            ]
          },
          "metadata": {},
          "execution_count": 49
        }
      ]
    },
    {
      "cell_type": "code",
      "source": [
        "test"
      ],
      "metadata": {
        "colab": {
          "base_uri": "https://localhost:8080/"
        },
        "id": "7LH0AZMmT0rT",
        "outputId": "53a5ac54-ec9c-4b76-9bfe-4833370acdee"
      },
      "execution_count": null,
      "outputs": [
        {
          "output_type": "execute_result",
          "data": {
            "text/plain": [
              "[2, 0, 2, 0, 2, 0, 0, 2, 0, 0, 2, 2, 0, 0, 0, 0, 0, 0, 0, 0, 0, 2, 0, 0]"
            ]
          },
          "metadata": {},
          "execution_count": 50
        }
      ]
    },
    {
      "cell_type": "code",
      "source": [
        "accuracy_score(test, label1)"
      ],
      "metadata": {
        "id": "9qFKU-n22DZT",
        "colab": {
          "base_uri": "https://localhost:8080/"
        },
        "outputId": "e1355a6f-d5ac-4497-980e-f2a547d4dc52"
      },
      "execution_count": null,
      "outputs": [
        {
          "output_type": "execute_result",
          "data": {
            "text/plain": [
              "0.4166666666666667"
            ]
          },
          "metadata": {},
          "execution_count": 51
        }
      ]
    },
    {
      "cell_type": "code",
      "source": [
        "label1"
      ],
      "metadata": {
        "id": "gygJL97Yu3ij"
      },
      "execution_count": null,
      "outputs": []
    }
  ]
}